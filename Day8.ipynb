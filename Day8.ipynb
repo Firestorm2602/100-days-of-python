{
 "cells": [
  {
   "cell_type": "code",
   "execution_count": 4,
   "metadata": {},
   "outputs": [
    {
     "name": "stdout",
     "output_type": "stream",
     "text": [
      "Hello Siddhant!\n",
      "How is it like in Mumbai?\n",
      "Hello Devanshu!\n",
      "How is it like in Indore?\n"
     ]
    }
   ],
   "source": [
    "def greet_with(name, location):\n",
    "    print(f\"Hello {name}!\")\n",
    "    print(f\"How is it like in {location}?\")\n",
    "\n",
    "greet_with(\"Siddhant\", \"Mumbai\")\n",
    "greet_with(location=\"Indore\", name=\"Devanshu\")"
   ]
  },
  {
   "cell_type": "code",
   "execution_count": 41,
   "metadata": {},
   "outputs": [],
   "source": [
    "alpha = ['a', 'b', 'c', 'd', 'e', 'f', 'g', 'h', 'i', 'j', 'k', 'l', 'm', 'n', 'o', 'p', 'q', 'r', 's', 't', 'u', 'v', 'w', 'x', 'y', 'z']\n",
    "\n",
    "# def encode_msg(msg,shift):\n",
    "#     encoded_msg = \"\"\n",
    "#     for i in msg:\n",
    "#         if i in alpha:\n",
    "#             index = alpha.index(i)\n",
    "#             en_letter = index + shift\n",
    "#             en_letter %= len(alpha)\n",
    "#             encoded_msg += alpha[en_letter]\n",
    "#         else:\n",
    "#             encoded_msg += i\n",
    "#     print(encoded_msg)\n",
    "\n",
    "# def decode_msg(msg,shift):\n",
    "#     decoded_msg = \"\"\n",
    "#     for i in msg:\n",
    "#         if i in alpha:\n",
    "#             index = alpha.index(i)\n",
    "#             de_letter = index - shift\n",
    "#             de_letter %= len(alpha)\n",
    "#             decoded_msg += alpha[de_letter]\n",
    "#         else:\n",
    "#             decoded_msg += i\n",
    "#     print(decoded_msg)\n",
    "\n",
    "# def Caesar(code):\n",
    "#     if code == \"encode\":\n",
    "#         print(\"Enter message and shift number.\")\n",
    "#         ori_msg = input(\"Type your message:\")\n",
    "#         shift = int(input(\"Enter shift number:\"))\n",
    "#         encode_msg(ori_msg,shift)\n",
    "#     if code == \"decode\":\n",
    "#         print(\"Enter message and shift number.\")\n",
    "#         ori_msg = input(\"Type your message:\")\n",
    "#         shift = int(input(\"Enter shift number:\"))\n",
    "#         decode_msg(ori_msg,shift)\n",
    "\n",
    "# Compact Caesar Cipher function\n",
    "def Caesar(code):\n",
    "\n",
    "    # Get user input text and shift number\n",
    "    print(\"Enter message and shift number.\")\n",
    "    ori_msg = input(\"Type your message:\")\n",
    "    shift = int(input(\"Enter shift number:\"))\n",
    "    \n",
    "    # Initialize output text\n",
    "    output_msg = \"\"\n",
    "    \n",
    "    # Multiply shift number in order to subtract index in decode\n",
    "    if code == \"decode\":\n",
    "        shift *= -1\n",
    "\n",
    "    # Cipher logic\n",
    "    for i in ori_msg:\n",
    "        if i in alpha:\n",
    "            index = alpha.index(i)\n",
    "            de_letter = index + shift\n",
    "            de_letter %= len(alpha)\n",
    "            output_msg += alpha[de_letter]\n",
    "        else:\n",
    "            output_msg += i\n",
    "    \n",
    "    # Print the encrypted or decrypted message\n",
    "    print(f\"The {code}d message is: {output_msg}\")"
   ]
  },
  {
   "cell_type": "code",
   "execution_count": 42,
   "metadata": {},
   "outputs": [
    {
     "name": "stdout",
     "output_type": "stream",
     "text": [
      "Welcome to Caesar cipher.\n",
      "Type 'encode' to encrypt, type 'decode' to decrypt.\n",
      "Wrong input!\n",
      "Type 'encode' to encrypt, type 'decode' to decrypt.\n",
      "Enter message and shift number.\n",
      "The encoded message is: xniimfsy xfqaj\n",
      "Type 'encode' to encrypt, type 'decode' to decrypt.\n",
      "Enter message and shift number.\n",
      "The decoded message is: siddhant salve\n",
      "Thank you!\n"
     ]
    }
   ],
   "source": [
    "print(\"Welcome to Caesar cipher.\")\n",
    "\n",
    "# Loop to continue code\n",
    "cont = \"yes\"\n",
    "while cont == \"yes\":\n",
    "\n",
    "    # Input encode or decode\n",
    "    print(\"Type 'encode' to encrypt, type 'decode' to decrypt.\")\n",
    "    code = input(\"Encrypt or Decrypt?\").lower()\n",
    "    \n",
    "    # Handle wrong input\n",
    "    if code == \"encode\" or code == \"decode\":\n",
    "        Caesar(code)\n",
    "    else:\n",
    "        print(\"Wrong input!\")\n",
    "\n",
    "    # Ask if the user wants to continue\n",
    "    cont = input(\"Do you wish to continue? Type 'yes' or 'no'.\").lower()\n",
    "    if cont == \"no\":\n",
    "        print(\"Thank you!\")"
   ]
  }
 ],
 "metadata": {
  "kernelspec": {
   "display_name": "Python 3",
   "language": "python",
   "name": "python3"
  },
  "language_info": {
   "codemirror_mode": {
    "name": "ipython",
    "version": 3
   },
   "file_extension": ".py",
   "mimetype": "text/x-python",
   "name": "python",
   "nbconvert_exporter": "python",
   "pygments_lexer": "ipython3",
   "version": "3.11.0"
  }
 },
 "nbformat": 4,
 "nbformat_minor": 2
}
