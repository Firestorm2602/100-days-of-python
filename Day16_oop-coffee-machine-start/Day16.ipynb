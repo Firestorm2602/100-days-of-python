{
 "cells": [
  {
   "cell_type": "code",
   "execution_count": 3,
   "id": "d0ab9152",
   "metadata": {},
   "outputs": [
    {
     "name": "stdout",
     "output_type": "stream",
     "text": [
      "<turtle.Turtle object at 0x0000017F928971D0>\n",
      "300\n"
     ]
    }
   ],
   "source": [
    "from turtle import Turtle, Screen\n",
    "timmy = Turtle()\n",
    "print(timmy)\n",
    "\n",
    "\n",
    "timmy.shape(\"turtle\")\n",
    "timmy.color(\"coral\",\"green\")\n",
    "timmy.speed(10)\n",
    "timmy.begin_fill()\n",
    "for i in range(360):\n",
    "    timmy.forward(2)\n",
    "    timmy.left(1)\n",
    "timmy.end_fill()\n",
    "\n",
    "# timmy.color(\"black\", \"red\")\n",
    "# timmy.begin_fill()\n",
    "# timmy.circle(20)\n",
    "# timmy.end_fill()\n",
    "\n",
    "my_screen = Screen()\n",
    "print(my_screen.canvheight)\n",
    "my_screen.exitonclick()"
   ]
  },
  {
   "cell_type": "code",
   "execution_count": 10,
   "id": "3c8d45c9",
   "metadata": {},
   "outputs": [
    {
     "name": "stdout",
     "output_type": "stream",
     "text": [
      "+--------------+----------+\n",
      "| Pokemon Name | Type     |\n",
      "+--------------+----------+\n",
      "| Charmander   | Fire     |\n",
      "| Bulbasaur    | Grass    |\n",
      "| Squirtle     | Water    |\n",
      "| Pikachu      | Electric |\n",
      "+--------------+----------+\n"
     ]
    }
   ],
   "source": [
    "from prettytable import PrettyTable\n",
    "\n",
    "table = PrettyTable()\n",
    "table.align = 'l'\n",
    "table.field_names = [\"Pokemon Name\", \"Type\"]\n",
    "table.add_row([\"Charmander\", \"Fire\"])\n",
    "table.add_row([\"Bulbasaur\", \"Grass\"])\n",
    "table.add_row([\"Squirtle\", \"Water\"])\n",
    "table.add_row([\"Pikachu\", \"Electric\"])\n",
    "print(table)"
   ]
  }
 ],
 "metadata": {
  "kernelspec": {
   "display_name": "Python 3",
   "language": "python",
   "name": "python3"
  },
  "language_info": {
   "codemirror_mode": {
    "name": "ipython",
    "version": 3
   },
   "file_extension": ".py",
   "mimetype": "text/x-python",
   "name": "python",
   "nbconvert_exporter": "python",
   "pygments_lexer": "ipython3",
   "version": "3.11.0"
  }
 },
 "nbformat": 4,
 "nbformat_minor": 5
}
