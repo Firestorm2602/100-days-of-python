{
 "cells": [
  {
   "cell_type": "code",
   "execution_count": 7,
   "metadata": {},
   "outputs": [
    {
     "name": "stdout",
     "output_type": "stream",
     "text": [
      "An error in a program that prevents the program from running as expected.\n",
      "{'Bug': 'An error in a program that prevents the program from running as expected.', 'Function': 'A piece of code that you can easily call over and over again.', 'Loop': 'The action if doing something over and over again.'}\n"
     ]
    }
   ],
   "source": [
    "programming_dictionary = {\n",
    "    \"Bug\": \"An error in a program that prevents the program from running as expected.\",\n",
    "    \"Function\": \"A piece of code that you can easily call over and over again.\",\n",
    "}\n",
    "print(programming_dictionary[\"Bug\"])\n",
    "\n",
    "programming_dictionary[\"Loop\"] = \"The action if doing something over and over again.\"\n",
    "print(programming_dictionary)"
   ]
  },
  {
   "cell_type": "code",
   "execution_count": 6,
   "metadata": {},
   "outputs": [
    {
     "name": "stdout",
     "output_type": "stream",
     "text": [
      "{}\n"
     ]
    }
   ],
   "source": [
    "# Wipe an existing dictionary\n",
    "\n",
    "programming_dictionary = {}\n",
    "print(programming_dictionary)"
   ]
  },
  {
   "cell_type": "code",
   "execution_count": 9,
   "metadata": {},
   "outputs": [
    {
     "name": "stdout",
     "output_type": "stream",
     "text": [
      "{'Bug': 'A moth in your computer.', 'Function': 'A piece of code that you can easily call over and over again.', 'Loop': 'The action if doing something over and over again.'}\n"
     ]
    }
   ],
   "source": [
    "# Edit an item in a dictionary\n",
    "\n",
    "programming_dictionary[\"Bug\"] = \"A moth in your computer.\"\n",
    "print(programming_dictionary)"
   ]
  },
  {
   "cell_type": "code",
   "execution_count": 10,
   "metadata": {},
   "outputs": [
    {
     "name": "stdout",
     "output_type": "stream",
     "text": [
      "Bug\n",
      "A moth in your computer.\n",
      "Function\n",
      "A piece of code that you can easily call over and over again.\n",
      "Loop\n",
      "The action if doing something over and over again.\n"
     ]
    }
   ],
   "source": [
    "# Loop through a dictionary\n",
    "\n",
    "for key in programming_dictionary:\n",
    "    print(key)\n",
    "    print(programming_dictionary[key])"
   ]
  },
  {
   "cell_type": "code",
   "execution_count": 12,
   "metadata": {},
   "outputs": [
    {
     "name": "stdout",
     "output_type": "stream",
     "text": [
      "{'Harry': 'Exceeds Expectations', 'Ron': 'Acceptable', 'Hermione': 'Outstanding', 'Draco': 'Acceptable', 'Neville': 'Fail'}\n"
     ]
    }
   ],
   "source": [
    "student_scores = {\n",
    "    'Harry': 88,\n",
    "    'Ron': 78,\n",
    "    'Hermione': 95,\n",
    "    'Draco': 75,\n",
    "    'Neville': 60\n",
    "}\n",
    "\n",
    "student_grades = {}\n",
    "\n",
    "for key in student_scores:\n",
    "    if student_scores[key] > 90:\n",
    "        student_grades[key] = \"Outstanding\"\n",
    "    elif student_scores[key] > 80:\n",
    "        student_grades[key] = \"Exceeds Expectations\" \n",
    "    elif student_scores[key] > 70:\n",
    "        student_grades[key] = \"Acceptable\"\n",
    "    else:\n",
    "        student_grades[key] = \"Fail\"\n",
    "\n",
    "print(student_grades)"
   ]
  },
  {
   "cell_type": "code",
   "execution_count": 14,
   "metadata": {},
   "outputs": [
    {
     "name": "stdout",
     "output_type": "stream",
     "text": [
      "Lille\n"
     ]
    }
   ],
   "source": [
    "# Nested List in dictionary\n",
    "traval_log = {\n",
    "    \"France\": [\"Paris\", \"Lille\", \"Dijon\"],\n",
    "    \"Germany\": [\"Stuttgart\", \"Berlin\"],\n",
    "}\n",
    "\n",
    "# Print Lille\n",
    "print(traval_log[\"France\"][1])"
   ]
  },
  {
   "cell_type": "code",
   "execution_count": 23,
   "metadata": {},
   "outputs": [
    {
     "name": "stdout",
     "output_type": "stream",
     "text": [
      "Welcome to bline bidding!\n",
      "{'Dev': 26, 'Sid': 99, 'Sams': 43}\n",
      "Dev bids $26\n",
      "Sid bids $99\n",
      "Sams bids $43\n",
      "Sid won the bid with 99 bid.\n"
     ]
    }
   ],
   "source": [
    "print(\"Welcome to bline bidding!\")\n",
    "\n",
    "# Finding winner function\n",
    "def find_winner(bidding):\n",
    "    winner = \"\"\n",
    "    highest_bid = 0\n",
    "    for key in bidding:\n",
    "        print(f\"{key} bids ${bidding[key]}\")\n",
    "        if bidding[key] > highest_bid:\n",
    "            winner = key\n",
    "            highest_bid = bidding[key]\n",
    "    print(f\"{winner} won the bid with {highest_bid} bid.\")\n",
    "\n",
    "# Finding winner using max function \n",
    "def find_max(bidding):\n",
    "    key = max(bidding, key=bidding.get)\n",
    "    print(f\"{key} won the bid.\")\n",
    "\n",
    "var = \"yes\"\n",
    "bids = {}\n",
    "while var == \"yes\":\n",
    "    name = input(\"What is your name: \")\n",
    "    bid = int(input(\"Enter your bid: \"))\n",
    "    bids[name] = bid\n",
    "\n",
    "    var = input(\"Are there any other bidders? Type 'yes' or 'no'.\")\n",
    "\n",
    "print(bids)\n",
    "find_winner(bids)\n",
    "# find_max(bids)"
   ]
  }
 ],
 "metadata": {
  "kernelspec": {
   "display_name": "Python 3",
   "language": "python",
   "name": "python3"
  },
  "language_info": {
   "codemirror_mode": {
    "name": "ipython",
    "version": 3
   },
   "file_extension": ".py",
   "mimetype": "text/x-python",
   "name": "python",
   "nbconvert_exporter": "python",
   "pygments_lexer": "ipython3",
   "version": "3.11.0"
  }
 },
 "nbformat": 4,
 "nbformat_minor": 2
}
