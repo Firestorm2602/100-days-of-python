{
 "cells": [
  {
   "cell_type": "code",
   "execution_count": 10,
   "id": "90eb11d4",
   "metadata": {},
   "outputs": [
    {
     "name": "stdout",
     "output_type": "stream",
     "text": [
      "Enemies inside function: Zombie\n",
      "Enemies outside function: Skeleton\n"
     ]
    }
   ],
   "source": [
    "enemies = \"Skeleton\"\n",
    "\n",
    "def increase_enemies():\n",
    "    enemies = \"Zombie\"\n",
    "    print(f'Enemies inside function: {enemies}')\n",
    "\n",
    "increase_enemies()\n",
    "print(f'Enemies outside function: {enemies}')"
   ]
  },
  {
   "cell_type": "code",
   "execution_count": 9,
   "id": "3322be84",
   "metadata": {},
   "outputs": [
    {
     "name": "stdout",
     "output_type": "stream",
     "text": [
      "False\n",
      "True\n",
      "False\n",
      "True\n"
     ]
    }
   ],
   "source": [
    "def is_prime(num):\n",
    "    x=num-1\n",
    "    while x>1:\n",
    "        if num%x ==0:\n",
    "            return False\n",
    "        x-=1\n",
    "    return True\n",
    "\n",
    "print(is_prime(75))\n",
    "print(is_prime(73))\n",
    "print(is_prime(4))\n",
    "print(is_prime(1))"
   ]
  }
 ],
 "metadata": {
  "kernelspec": {
   "display_name": "Python 3",
   "language": "python",
   "name": "python3"
  },
  "language_info": {
   "codemirror_mode": {
    "name": "ipython",
    "version": 3
   },
   "file_extension": ".py",
   "mimetype": "text/x-python",
   "name": "python",
   "nbconvert_exporter": "python",
   "pygments_lexer": "ipython3",
   "version": "3.11.0"
  }
 },
 "nbformat": 4,
 "nbformat_minor": 5
}
