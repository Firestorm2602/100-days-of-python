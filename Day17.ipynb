{
 "cells": [
  {
   "cell_type": "code",
   "execution_count": null,
   "id": "d3fbdf30",
   "metadata": {},
   "outputs": [
    {
     "name": "stdout",
     "output_type": "stream",
     "text": [
      "siddhant\n"
     ]
    }
   ],
   "source": [
    "class User:\n",
    "    pass\n",
    "\n",
    "user_1 = User()\n",
    "user_1.id = \"001\"\n",
    "user_1.username = \"siddhant\"\n",
    "print(user_1.username)\n",
    "user_2 = User()\n",
    "user_2.id = \"002\"\n",
    "user_1.name = \"sid\""
   ]
  },
  {
   "cell_type": "code",
   "execution_count": 2,
   "id": "9e77d553",
   "metadata": {},
   "outputs": [
    {
     "name": "stdout",
     "output_type": "stream",
     "text": [
      "New user created...\n"
     ]
    }
   ],
   "source": [
    "class User:\n",
    "    def __init__(self):\n",
    "        print(\"New user created...\")\n",
    "\n",
    "user_1 = User()"
   ]
  },
  {
   "cell_type": "code",
   "execution_count": 7,
   "id": "a13857e2",
   "metadata": {},
   "outputs": [
    {
     "name": "stdout",
     "output_type": "stream",
     "text": [
      "001 siddhant 0\n",
      "0\n",
      "1\n",
      "1\n",
      "0\n"
     ]
    }
   ],
   "source": [
    "class User:\n",
    "    def __init__(self, user_id, username):\n",
    "        self.id = user_id\n",
    "        self.username = username\n",
    "        self.followers = 0\n",
    "        self.following = 0\n",
    "    def follow(self, user):\n",
    "        user.followers += 1\n",
    "        self.following += 1\n",
    "\n",
    "user_1 = User(\"001\", \"siddhant\")\n",
    "user_2 = User(\"002\", \"dev\")\n",
    "print(user_1.id, user_1.username, user_1.followers)\n",
    "\n",
    "user_1.follow(user_2)\n",
    "print(user_1.followers)\n",
    "print(user_1.following)\n",
    "print(user_2.followers)\n",
    "print(user_2.following)"
   ]
  }
 ],
 "metadata": {
  "kernelspec": {
   "display_name": "Python 3",
   "language": "python",
   "name": "python3"
  },
  "language_info": {
   "codemirror_mode": {
    "name": "ipython",
    "version": 3
   },
   "file_extension": ".py",
   "mimetype": "text/x-python",
   "name": "python",
   "nbconvert_exporter": "python",
   "pygments_lexer": "ipython3",
   "version": "3.11.0"
  }
 },
 "nbformat": 4,
 "nbformat_minor": 5
}
