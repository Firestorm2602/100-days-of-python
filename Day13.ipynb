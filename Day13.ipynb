{
 "cells": [
  {
   "cell_type": "markdown",
   "id": "215d0c64",
   "metadata": {},
   "source": [
    "### Process of Debugging"
   ]
  },
  {
   "cell_type": "markdown",
   "id": "34b8165e",
   "metadata": {},
   "source": [
    "Step 1: Dry Run"
   ]
  },
  {
   "cell_type": "code",
   "execution_count": 42,
   "id": "2105a0d0",
   "metadata": {},
   "outputs": [],
   "source": [
    "def my_fun():\n",
    "    for i in range(1, 20): # range(1, 21):\n",
    "        if i==20:\n",
    "            print(\"You got it!\")\n",
    "\n",
    "my_fun()"
   ]
  },
  {
   "cell_type": "markdown",
   "id": "5a32cc7c",
   "metadata": {},
   "source": [
    "Step 2: Reproduce the Bug"
   ]
  },
  {
   "cell_type": "code",
   "execution_count": 41,
   "id": "11d93849",
   "metadata": {},
   "outputs": [
    {
     "name": "stdout",
     "output_type": "stream",
     "text": [
      "5\n"
     ]
    }
   ],
   "source": [
    "from random import randint\n",
    "dice_face = [\"1\", \"2\", \"3\", \"4\", \"5\", \"6\"]\n",
    "dice_num = randint(1, 6) # randint(0, 5)\n",
    "print(dice_face[dice_num])"
   ]
  },
  {
   "cell_type": "markdown",
   "id": "0b32ee36",
   "metadata": {},
   "source": [
    "Step 3: Play Computer"
   ]
  },
  {
   "cell_type": "code",
   "execution_count": 45,
   "id": "c7443c16",
   "metadata": {},
   "outputs": [],
   "source": [
    "year = int(input(\"What's your year of birth? \"))\n",
    "\n",
    "if year > 1980 and year < 2000: \n",
    "    print(\"You are a millenial.\")\n",
    "elif year > 2000:\n",
    "    print(\"You are a Gen Z\")\n",
    "# Doesn't catch input year 2000"
   ]
  },
  {
   "cell_type": "markdown",
   "id": "351bda97",
   "metadata": {},
   "source": [
    "Step 4: Fix the Errors"
   ]
  },
  {
   "cell_type": "code",
   "execution_count": 50,
   "id": "4bdb066f",
   "metadata": {},
   "outputs": [],
   "source": [
    "age = int(input(\"How old are you?\"))\n",
    "if age > 18:\n",
    "    print(\"You can drive at age {age}\") # Use f-string \n",
    "# Use try except blocks to catch errors\n",
    "# try:\n",
    "#     age = int(input(\"How old are you?\"))\n",
    "# except ValueError:\n",
    "#     print(\"Invalid number.\")\n",
    "#     age = int(input(\"How old are you?\"))"
   ]
  },
  {
   "cell_type": "markdown",
   "id": "27386ed3",
   "metadata": {},
   "source": [
    "Step 5: Use print()"
   ]
  },
  {
   "cell_type": "code",
   "execution_count": null,
   "id": "c7d89785",
   "metadata": {},
   "outputs": [
    {
     "name": "stdout",
     "output_type": "stream",
     "text": [
      "pages: 45\n",
      "words_per_page: 0\n",
      "0\n"
     ]
    }
   ],
   "source": [
    "words_per_page = 0\n",
    "pages = int(input(\"No of pages: \"))\n",
    "words_per_page == int(input(\"No of words per page: \")) # Use print statement to find errors eg. using \"==\" instead of \"=\"\n",
    "total_words = pages*words_per_page\n",
    "\n",
    "print(f\"pages: {pages}\")\n",
    "print(f\"words_per_page: {words_per_page}\")\n",
    "print(total_words)"
   ]
  },
  {
   "cell_type": "markdown",
   "id": "02870cab",
   "metadata": {},
   "source": [
    "Step 6: Use a Debugger"
   ]
  },
  {
   "cell_type": "code",
   "execution_count": 53,
   "id": "2b4c2767",
   "metadata": {},
   "outputs": [],
   "source": [
    "# Beware of Indents "
   ]
  },
  {
   "cell_type": "markdown",
   "id": "418297e8",
   "metadata": {},
   "source": [
    "Step 7: Take a break"
   ]
  },
  {
   "cell_type": "markdown",
   "id": "cd2f506c",
   "metadata": {},
   "source": [
    "Step 8: Ask a friend"
   ]
  },
  {
   "cell_type": "markdown",
   "id": "4ed841f9",
   "metadata": {},
   "source": [
    "Step 9: Run Often"
   ]
  },
  {
   "cell_type": "markdown",
   "id": "a887744b",
   "metadata": {},
   "source": [
    "Step 10: Stack Overflow"
   ]
  },
  {
   "cell_type": "code",
   "execution_count": 54,
   "id": "40e37c23",
   "metadata": {},
   "outputs": [],
   "source": [
    "def odd_or_even(number):\n",
    "    if number % 2 == 0:\n",
    "        return \"This is an even number.\"\n",
    "    else:\n",
    "        return \"This is an odd number.\""
   ]
  },
  {
   "cell_type": "code",
   "execution_count": 55,
   "id": "a934be70",
   "metadata": {},
   "outputs": [],
   "source": [
    "def is_leap(year):\n",
    "    if year % 4 == 0:\n",
    "        if year % 100 == 0:\n",
    "            if year % 400 == 0:\n",
    "                return True\n",
    "            else:\n",
    "                return False\n",
    "        else:\n",
    "            return True\n",
    "    else:\n",
    "        return False"
   ]
  },
  {
   "cell_type": "code",
   "execution_count": 56,
   "id": "764d1926",
   "metadata": {},
   "outputs": [],
   "source": [
    "# Target is the number up to which we count\n",
    "def fizz_buzz(target):\n",
    "    for number in range(1, target + 1):\n",
    "        if number % 3 == 0 and number % 5 == 0:\n",
    "            print(\"FizzBuzz\")\n",
    "        elif number % 3 == 0:\n",
    "            print(\"Fizz\")\n",
    "        elif number % 5 == 0:\n",
    "            print(\"Buzz\")\n",
    "        else:\n",
    "            print(number)"
   ]
  }
 ],
 "metadata": {
  "kernelspec": {
   "display_name": "Python 3",
   "language": "python",
   "name": "python3"
  },
  "language_info": {
   "codemirror_mode": {
    "name": "ipython",
    "version": 3
   },
   "file_extension": ".py",
   "mimetype": "text/x-python",
   "name": "python",
   "nbconvert_exporter": "python",
   "pygments_lexer": "ipython3",
   "version": "3.11.0"
  }
 },
 "nbformat": 4,
 "nbformat_minor": 5
}
