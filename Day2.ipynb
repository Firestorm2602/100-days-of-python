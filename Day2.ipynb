{
 "cells": [
  {
   "cell_type": "code",
   "execution_count": 6,
   "metadata": {},
   "outputs": [
    {
     "name": "stdout",
     "output_type": "stream",
     "text": [
      "H\n",
      "123345\n",
      "468\n",
      "123456789\n",
      "32.432\n",
      "True\n"
     ]
    }
   ],
   "source": [
    "print(\"Hello\"[0])    # Subscripting\n",
    "\n",
    "print(\"123\"+\"345\")   # String\n",
    "print(123+345)       # Integer = Whole number\n",
    "print(123_456_789)   # Large integers\n",
    "print(32.432)        # Float = Floating point Number\n",
    "print(True)          # Boolean"
   ]
  },
  {
   "cell_type": "code",
   "execution_count": 12,
   "metadata": {},
   "outputs": [
    {
     "name": "stdout",
     "output_type": "stream",
     "text": [
      "<class 'int'>\n",
      "<class 'str'>\n",
      "<class 'int'>\n"
     ]
    }
   ],
   "source": [
    "print(type(123)) # String = \"Hello\", Integer = 123, Float = 1.2, Boolean = True\n",
    "a = str(123)\n",
    "print(type(a))\n",
    "a= int(a)\n",
    "print(type(a))"
   ]
  },
  {
   "cell_type": "code",
   "execution_count": 18,
   "metadata": {},
   "outputs": [
    {
     "name": "stdout",
     "output_type": "stream",
     "text": [
      "My age:22\n",
      "579\n",
      "4\n",
      "6\n",
      "1.6666666666666667\n",
      "1\n",
      "8\n",
      "2\n",
      "7.0\n",
      "3.0\n"
     ]
    }
   ],
   "source": [
    "print(\"My age:\" + str(22))\n",
    "print(123+456)\n",
    "print(7-3)\n",
    "print(3*2)\n",
    "print(5/3)\n",
    "print(5//3)\n",
    "print(2**3)\n",
    "print(5%3)\n",
    "#PEMDAS\n",
    "# ()\n",
    "# **\n",
    "# * OR /\n",
    "# + OR -\n",
    "print(3 * 3 + 3 / 3 - 3)\n",
    "print(3 * (3 + 3) / 3 - 3)"
   ]
  },
  {
   "cell_type": "code",
   "execution_count": null,
   "metadata": {},
   "outputs": [
    {
     "name": "stdout",
     "output_type": "stream",
     "text": [
      "30.85399449035813\n",
      "30\n",
      "31\n",
      "30.854\n"
     ]
    }
   ],
   "source": [
    "# Different round off methods\n",
    "bmi=84/1.65**2\n",
    "print(bmi)\n",
    "print(int(bmi))\n",
    "print(round(bmi))\n",
    "print(round(bmi, 3))"
   ]
  },
  {
   "cell_type": "code",
   "execution_count": 22,
   "metadata": {},
   "outputs": [
    {
     "name": "stdout",
     "output_type": "stream",
     "text": [
      "Your score is = 3, your height is 1.8. You are winning is True\n"
     ]
    }
   ],
   "source": [
    "# f-strings\n",
    "score = 3\n",
    "height = 1.8\n",
    "is_winning = True\n",
    "print(f\"Your score is = {score}, your height is {height}. You are winning is {is_winning}\")"
   ]
  },
  {
   "cell_type": "code",
   "execution_count": 28,
   "metadata": {},
   "outputs": [
    {
     "name": "stdout",
     "output_type": "stream",
     "text": [
      "Welcome to the tip calclator!\n",
      "What was the total bill? $124.56\n",
      "How much tip would you like to give? 10, 12, or 15? 12\n",
      "How many people to split the bill? 7\n",
      "Each person should pay: $19.93\n"
     ]
    }
   ],
   "source": [
    "print(\"Welcome to the tip calclator!\")\n",
    "bill = float(input(\"What was the total bill?\"))\n",
    "print(f\"What was the total bill? ${bill}\")\n",
    "tip = int(input(\"How much tip would you like to give? 10, 12, or 15?\"))\n",
    "print(f\"How much tip would you like to give? 10, 12, or 15? {tip}\")\n",
    "people = int(input(\"How many people to split the bill?\"))\n",
    "print(f\"How many people to split the bill? {people}\")\n",
    "share = bill*((100+tip)/100)/people\n",
    "print(f\"Each person should pay: ${round(share, 2)}\")"
   ]
  }
 ],
 "metadata": {
  "kernelspec": {
   "display_name": "Python 3",
   "language": "python",
   "name": "python3"
  },
  "language_info": {
   "codemirror_mode": {
    "name": "ipython",
    "version": 3
   },
   "file_extension": ".py",
   "mimetype": "text/x-python",
   "name": "python",
   "nbconvert_exporter": "python",
   "pygments_lexer": "ipython3",
   "version": "3.11.0"
  }
 },
 "nbformat": 4,
 "nbformat_minor": 2
}
