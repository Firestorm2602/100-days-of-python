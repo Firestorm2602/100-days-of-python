{
 "cells": [
  {
   "cell_type": "code",
   "execution_count": 1,
   "metadata": {},
   "outputs": [],
   "source": [
    "import random\n",
    "cards = [11, 2, 3, 4, 5, 6, 7, 8, 9, 10, 10, 10, 10]"
   ]
  },
  {
   "cell_type": "code",
   "execution_count": null,
   "metadata": {},
   "outputs": [],
   "source": [
    "print(\"Welcome to BlackJack!\")\n",
    "dealer_cards = []\n",
    "player_cards = []\n",
    "\n",
    "dealer_cards.append(random.choice(cards))\n",
    "player_cards.append(random.choice(cards))\n",
    "\n",
    "print(f\"One of dealer's drawn cards is {dealer_cards}.\")\n",
    "\n",
    "dealer_sum = 0\n",
    "while dealer_sum<17:\n",
    "    dealer_sum = 0\n",
    "    dealer_cards.append(random.choice(cards))\n",
    "    for i in dealer_cards:\n",
    "        dealer_sum += i\n",
    "    if dealer_sum > 21 and 11 in dealer_cards:\n",
    "        dealer_sum -= 10\n",
    "\n",
    "choice = \"y\"\n",
    "player_sum = 0\n",
    "while player_sum < 22 and choice == \"y\":\n",
    "    player_sum = 0\n",
    "    player_cards.append(random.choice(cards))\n",
    "    print(f\"You have drawn cards {player_cards}.\")\n",
    "        \n",
    "    for i in player_cards:\n",
    "        player_sum += i\n",
    "    \n",
    "    if player_sum > 21 and 11 in player_cards:\n",
    "        player_sum -= 10\n",
    "\n",
    "    print(f\"Your sum is {player_sum} and you cards are {player_cards}\")\n",
    "\n",
    "    if player_sum > 21:\n",
    "        print(\"Its a bust. You lost!\")\n",
    "        break\n",
    "    choice = input(\"Would you like to draw another card?\")\n",
    "\n",
    "if dealer_sum > 21:\n",
    "    print(f\"Dealer's sum is {dealer_sum} so you win by default.\")\n",
    "elif player_sum == dealer_sum:\n",
    "    print(f\"Its a tie. Both of your sum is {player_sum}.\")\n",
    "elif player_sum > dealer_sum:\n",
    "    print(f\"You Won. You have a sum of {player_sum} and dealer has a sum of {dealer_sum}.\")\n",
    "else:\n",
    "    print(f\"You Lose. You have a sum of {player_sum} and dealer has a sum of {dealer_sum}.\")\n",
    "\n",
    "print(player_cards, dealer_cards)"
   ]
  },
  {
   "cell_type": "code",
   "execution_count": null,
   "metadata": {},
   "outputs": [
    {
     "name": "stdout",
     "output_type": "stream",
     "text": [
      "One of dealer's drawn cards is [4].\n"
     ]
    }
   ],
   "source": []
  },
  {
   "cell_type": "code",
   "execution_count": null,
   "metadata": {},
   "outputs": [
    {
     "name": "stdout",
     "output_type": "stream",
     "text": [
      "One of dealer's drawn cards is [11].\n",
      "Dealer's drawn cards are [11, 11].\n",
      "Dealer sum1: 22\n",
      "Dealer sum2: 12\n",
      "Dealer's drawn cards are [11, 11, 11].\n",
      "Dealer sum1: 33\n",
      "Dealer sum2: 13\n",
      "Dealer's drawn cards are [11, 11, 11, 11].\n",
      "Dealer sum1: 44\n",
      "Dealer sum2: 14\n",
      "Dealer's drawn cards are [11, 11, 11, 11, 11].\n",
      "Dealer sum1: 55\n",
      "Dealer sum2: 15\n",
      "Dealer's drawn cards are [11, 11, 11, 11, 11, 11].\n",
      "Dealer sum1: 66\n",
      "Dealer sum2: 16\n",
      "Dealer's drawn cards are [11, 11, 11, 11, 11, 11, 11].\n",
      "Dealer sum1: 77\n",
      "Dealer sum2: 17\n"
     ]
    }
   ],
   "source": [
    "import random\n",
    "cards = [11, 2, 3, 4, 5, 6, 7, 8, 9, 10, 10, 10, 10]\n",
    "dealer_cards = []\n",
    "dealer_cards.append(random.choice(cards))\n",
    "print(f\"One of dealer's drawn cards is {dealer_cards}.\")\n",
    "\n",
    "dealer_sum = 0\n",
    "while dealer_sum<17:\n",
    "    dealer_sum = 0\n",
    "    dealer_cards.append(random.choice(cards))\n",
    "    print(f\"Dealer's drawn cards are {dealer_cards}.\")\n",
    "    j=0\n",
    "    for i in dealer_cards:\n",
    "        dealer_sum += i\n",
    "        if i==11:\n",
    "            j+=1\n",
    "    print(f'Dealer sum1: {dealer_sum}')\n",
    "    while dealer_sum > 21 and j>0:\n",
    "        dealer_sum -= 10\n",
    "        j-=1\n",
    "    print(f'Dealer sum2: {dealer_sum}')"
   ]
  }
 ],
 "metadata": {
  "kernelspec": {
   "display_name": "Python 3",
   "language": "python",
   "name": "python3"
  },
  "language_info": {
   "codemirror_mode": {
    "name": "ipython",
    "version": 3
   },
   "file_extension": ".py",
   "mimetype": "text/x-python",
   "name": "python",
   "nbconvert_exporter": "python",
   "pygments_lexer": "ipython3",
   "version": "3.11.0"
  }
 },
 "nbformat": 4,
 "nbformat_minor": 2
}
