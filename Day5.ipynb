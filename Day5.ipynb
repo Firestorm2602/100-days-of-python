{
 "cells": [
  {
   "cell_type": "code",
   "execution_count": 1,
   "metadata": {},
   "outputs": [
    {
     "name": "stdout",
     "output_type": "stream",
     "text": [
      "Apple\n",
      "Apple-pie\n",
      "Peach\n",
      "Peach-pie\n",
      "Pear\n",
      "Pear-pie\n"
     ]
    }
   ],
   "source": [
    "fruits = [\"Apple\", \"Peach\", \"Pear\"]\n",
    "for fruit in fruits:\n",
    "    print(fruit)\n",
    "    print(fruit + \"-pie\")"
   ]
  },
  {
   "cell_type": "code",
   "execution_count": 20,
   "metadata": {},
   "outputs": [
    {
     "name": "stdout",
     "output_type": "stream",
     "text": [
      "1146 189\n",
      "1146 189\n"
     ]
    }
   ],
   "source": [
    "student_scores = [180, 124, 165, 173, 189, 169, 146]\n",
    "total = sum(student_scores)\n",
    "maxi = max(student_scores)\n",
    "print(total, maxi)\n",
    "sum_scores = 0\n",
    "max_score = 0\n",
    "for score in student_scores:\n",
    "    sum_scores += score\n",
    "    if score > max_score:\n",
    "        max_score = score\n",
    "print(sum_scores, max_score)"
   ]
  },
  {
   "cell_type": "code",
   "execution_count": 21,
   "metadata": {},
   "outputs": [
    {
     "name": "stdout",
     "output_type": "stream",
     "text": [
      "5050\n"
     ]
    }
   ],
   "source": [
    "# The Gauss Challenge\n",
    "sum100 = 0\n",
    "for i in range(1,101):\n",
    "    sum100 += i\n",
    "print(sum100)"
   ]
  },
  {
   "cell_type": "code",
   "execution_count": 28,
   "metadata": {},
   "outputs": [
    {
     "ename": "TypeError",
     "evalue": "'str' object cannot be interpreted as an integer",
     "output_type": "error",
     "traceback": [
      "\u001b[1;31m---------------------------------------------------------------------------\u001b[0m",
      "\u001b[1;31mTypeError\u001b[0m                                 Traceback (most recent call last)",
      "Cell \u001b[1;32mIn[28], line 2\u001b[0m\n\u001b[0;32m      1\u001b[0m numbers \u001b[38;5;241m=\u001b[39m []\n\u001b[1;32m----> 2\u001b[0m \u001b[38;5;28;01mfor\u001b[39;00m i \u001b[38;5;129;01min\u001b[39;00m \u001b[38;5;28;43mrange\u001b[39;49m\u001b[43m(\u001b[49m\u001b[38;5;124;43m'\u001b[39;49m\u001b[38;5;124;43ma\u001b[39;49m\u001b[38;5;124;43m'\u001b[39;49m\u001b[43m,\u001b[49m\u001b[38;5;124;43m'\u001b[39;49m\u001b[38;5;124;43mz\u001b[39;49m\u001b[38;5;124;43m'\u001b[39;49m\u001b[43m)\u001b[49m:\n\u001b[0;32m      3\u001b[0m     numbers\u001b[38;5;241m.\u001b[39mappend(i)\n\u001b[0;32m      4\u001b[0m \u001b[38;5;28mprint\u001b[39m(numbers)\n",
      "\u001b[1;31mTypeError\u001b[0m: 'str' object cannot be interpreted as an integer"
     ]
    }
   ],
   "source": [
    "numbers = []\n",
    "for i in range('a','z'):\n",
    "    numbers.append(i)\n",
    "print(numbers)"
   ]
  },
  {
   "cell_type": "code",
   "execution_count": 40,
   "metadata": {},
   "outputs": [
    {
     "name": "stdout",
     "output_type": "stream",
     "text": [
      "Welcome to PyPassword Generator!\n",
      "How many letters would you like? 8\n",
      "How many letters would you like? 4\n",
      "How many letters would you like? 4\n",
      "letters =  ['a', 'b', 'c', 'd', 'e', 'f', 'g', 'h', 'i', 'j', 'k', 'l', 'm', 'n', 'o', 'p', 'q', 'r', 's', 't', 'u', 'v', 'w', 'x', 'y', 'z']\n",
      "symbols =  ['!', '@', '#', '$', '%', '&', '*']\n",
      "numbers =  ['0', '1', '2', '3', '4', '5', '6', '7', '8', '9']\n",
      "\n",
      "Password =  ['n', 't', 'm', 'o', '&', 'q', '*', '!', '6', '6', '*', 'y', 'v', '2', 'o', '9']\n",
      "Password =  ntmo&q*!66*yv2o9\n"
     ]
    }
   ],
   "source": [
    "print(\"Welcome to PyPassword Generator!\")\n",
    "\n",
    "no_letters = int(input(\"How many letters would you like?\"))\n",
    "print(\"How many letters would you like?\", no_letters)\n",
    "\n",
    "no_symbols = int(input(\"How many symbols would you like?\"))\n",
    "print(\"How many letters would you like?\", no_symbols)\n",
    "\n",
    "no_numbers = int(input(\"How many numbers would you like?\"))\n",
    "print(\"How many letters would you like?\", no_numbers)\n",
    "\n",
    "letters = ['a', 'b', 'c', 'd', 'e', 'f', 'g', 'h', 'i', 'j', 'k', 'l', 'm', 'n', 'o', 'p', 'q', 'r', 's', 't', 'u', 'v', 'w', 'x', 'y', 'z']\n",
    "symbols = ['!', '@', '#', '$', '%', '&', '*']\n",
    "numbers = []\n",
    "for i in range(0,10):\n",
    "    numbers.append(str(i))\n",
    "print(\"letters = \",letters)\n",
    "print(\"symbols = \",symbols)\n",
    "print(\"numbers = \",numbers)\n",
    "\n",
    "total_length = no_letters + no_symbols + no_numbers\n",
    "\n",
    "import random\n",
    "password = []\n",
    "\n",
    "let_added = 0\n",
    "sym_added = 0\n",
    "num_added = 0\n",
    "\n",
    "# list.shuffle() is possible\n",
    "\n",
    "for i in range(0,total_length):\n",
    "    rand_total = random.randint(0,2)\n",
    "    if rand_total == 0:\n",
    "        if num_added<no_numbers:\n",
    "            rand_char = random.choice(numbers)\n",
    "            password.append(rand_char)\n",
    "            num_added += 1\n",
    "        else:\n",
    "            rand_total += 1\n",
    "    if rand_total == 1:\n",
    "        if sym_added<no_symbols:\n",
    "            rand_char = random.choice(symbols)\n",
    "            password.append(rand_char)\n",
    "            sym_added += 1\n",
    "        else:\n",
    "            rand_total += 1\n",
    "    if rand_total == 2:\n",
    "        if let_added<no_letters:\n",
    "            rand_char = random.choice(letters)\n",
    "            password.append(rand_char)\n",
    "            let_added += 1\n",
    "        else:\n",
    "            i -= 1\n",
    "print(\"\\nPassword = \", password)\n",
    "\n",
    "passd = \"\"\n",
    "for i in password:\n",
    "    passd += i\n",
    "print(\"Password = \", passd)"
   ]
  }
 ],
 "metadata": {
  "kernelspec": {
   "display_name": "Python 3",
   "language": "python",
   "name": "python3"
  },
  "language_info": {
   "codemirror_mode": {
    "name": "ipython",
    "version": 3
   },
   "file_extension": ".py",
   "mimetype": "text/x-python",
   "name": "python",
   "nbconvert_exporter": "python",
   "pygments_lexer": "ipython3",
   "version": "3.11.0"
  }
 },
 "nbformat": 4,
 "nbformat_minor": 2
}
