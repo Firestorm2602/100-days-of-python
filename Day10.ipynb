{
 "cells": [
  {
   "cell_type": "code",
   "execution_count": 31,
   "metadata": {},
   "outputs": [],
   "source": [
    "def format_name(name):\n",
    "    \"\"\"Take the name and turn it into title case.\"\"\"  # Doc strings used for explaining functionality of a function\n",
    "    low = name.lower()\n",
    "    name_lst = []\n",
    "    name_len = 0\n",
    "    for i in low:\n",
    "        name_lst.append(i)\n",
    "        name_len += 1\n",
    "    name_lst[0] = name_lst[0].upper()\n",
    "    Name = \"\"\n",
    "    for i in name_lst:\n",
    "        Name += i\n",
    "    return Name\n",
    "\n",
    "def full_name(f_name, l_name):\n",
    "    \"\"\"Take the first and last name and pass it through format name.\"\"\"  # Doc strings used for explaining functionality of a function\n",
    "    F_name = format_name(f_name)\n",
    "    L_name = format_name(l_name)\n",
    "    Full_name = F_name + \" \" + L_name\n",
    "    return Full_name"
   ]
  },
  {
   "cell_type": "code",
   "execution_count": 32,
   "metadata": {},
   "outputs": [],
   "source": [
    "def title_case(f_name, l_name):\n",
    "    \"\"\"Turns name into title case using title() function\"\"\"  # Doc strings used for explaining functionality of a function\n",
    "    F_name = f_name.title()\n",
    "    L_name = l_name.title()\n",
    "    return f\"{F_name} {L_name}\""
   ]
  },
  {
   "cell_type": "code",
   "execution_count": 33,
   "metadata": {},
   "outputs": [
    {
     "name": "stdout",
     "output_type": "stream",
     "text": [
      "Siddhant Salve\n",
      "Siddhant Salve\n"
     ]
    }
   ],
   "source": [
    "first_name = input(\"Enter first name:\")\n",
    "last_name = input(\"Enter last name:\")\n",
    "Full_name = full_name(first_name, last_name)\n",
    "print(Full_name)\n",
    "print(title_case(first_name, last_name))"
   ]
  },
  {
   "cell_type": "code",
   "execution_count": 37,
   "metadata": {},
   "outputs": [
    {
     "name": "stdout",
     "output_type": "stream",
     "text": [
      "5\n"
     ]
    }
   ],
   "source": [
    "def add(n1, n2):\n",
    "    return n1 + n2\n",
    "\n",
    "def subtract(n1, n2):\n",
    "    return n1 - n2\n",
    "\n",
    "def multiply(n1, n2):\n",
    "    return n1 * n2\n",
    "\n",
    "def divide(n1, n2):\n",
    "    return n1 / n2\n",
    "\n",
    "my_fav = add    # Assigning function to a variable\n",
    "print(my_fav(2,3))"
   ]
  },
  {
   "cell_type": "code",
   "execution_count": 44,
   "metadata": {},
   "outputs": [
    {
     "name": "stdout",
     "output_type": "stream",
     "text": [
      "Welcome to the Calculator!\n",
      "Answer is 8.0.\n",
      "Answer is 6.0.\n",
      "Answer is 12.0.\n",
      "Answer is 4.0.\n",
      "Answer is 5.0.\n"
     ]
    }
   ],
   "source": [
    "print(\"Welcome to the Calculator!\")\n",
    "\n",
    "# Dictionary to store symbols and operations \n",
    "ops = {\n",
    "    \"+\": add,\n",
    "    \"-\": subtract,\n",
    "    \"*\": multiply,\n",
    "    \"/\": divide,\n",
    "    }\n",
    "\n",
    "# Loop to restart calculator\n",
    "cont = \"n\"\n",
    "while cont == \"n\":\n",
    "    n1 = float(input(\"Enter first number:\"))\n",
    "    cont = \"y\"\n",
    "\n",
    "    # Loop to continue with previous answer\n",
    "    while cont == \"y\":\n",
    "        op = input(\"What operation would you like to perform? '+', '-', '*' or '/':\")\n",
    "        n2 = float(input(\"Enter next number:\"))\n",
    "        n1 = ops[op](n1, n2) # Calling the function in the dictionary using its key\n",
    "        print(f\"Answer is {n1}.\")\n",
    "        cont = input(f\"Would you like to continue with {n1}(type 'y') or start witha new number(type 'n'.)\")\n",
    "\n"
   ]
  }
 ],
 "metadata": {
  "kernelspec": {
   "display_name": "Python 3",
   "language": "python",
   "name": "python3"
  },
  "language_info": {
   "codemirror_mode": {
    "name": "ipython",
    "version": 3
   },
   "file_extension": ".py",
   "mimetype": "text/x-python",
   "name": "python",
   "nbconvert_exporter": "python",
   "pygments_lexer": "ipython3",
   "version": "3.11.0"
  }
 },
 "nbformat": 4,
 "nbformat_minor": 2
}
