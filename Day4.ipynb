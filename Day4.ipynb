{
 "cells": [
  {
   "cell_type": "code",
   "execution_count": 64,
   "metadata": {},
   "outputs": [
    {
     "name": "stdout",
     "output_type": "stream",
     "text": [
      "65\n",
      "0.8614800827413349\n",
      "4.112121562499829\n"
     ]
    }
   ],
   "source": [
    "import random\n",
    "\n",
    "rand_int = random.randint(1, 100) # Random int between a and b\n",
    "print(rand_int)\n",
    "\n",
    "rand_float = random.random() * 10 # Random float between 0 and 1\n",
    "print(rand_float)\n",
    "\n",
    "rand_float_un = random.uniform(1, 10) # Random float between a and b\n",
    "print(rand_float_un)"
   ]
  },
  {
   "cell_type": "code",
   "execution_count": 18,
   "metadata": {},
   "outputs": [
    {
     "name": "stdout",
     "output_type": "stream",
     "text": [
      "3.14\n"
     ]
    }
   ],
   "source": [
    "# Import a user created module\n",
    "import Day4\n",
    "print(Day4.num)"
   ]
  },
  {
   "cell_type": "code",
   "execution_count": 95,
   "metadata": {},
   "outputs": [
    {
     "name": "stdout",
     "output_type": "stream",
     "text": [
      "Tails\n"
     ]
    }
   ],
   "source": [
    "# Heads or Tails\n",
    "rand_toss = random.randint(0,1)\n",
    "if rand_toss == 0:\n",
    "    print(\"Heads\")\n",
    "elif rand_toss == 1:\n",
    "    print(\"Tails\")\n",
    "else:\n",
    "    print(\"Neither heads nor tails\")"
   ]
  },
  {
   "cell_type": "code",
   "execution_count": 165,
   "metadata": {},
   "outputs": [
    {
     "name": "stdout",
     "output_type": "stream",
     "text": [
      "David\n",
      "Charlie\n"
     ]
    }
   ],
   "source": [
    "friends = [\"Alice\", \"Bob\", \"Charlie\", \"David\", \"Emanuel\"]\n",
    "rand_fri = random.randint(0, 4)\n",
    "print(friends[rand_fri])\n",
    "print(random.choice(friends))"
   ]
  },
  {
   "cell_type": "code",
   "execution_count": 178,
   "metadata": {},
   "outputs": [
    {
     "name": "stdout",
     "output_type": "stream",
     "text": [
      "Rock, Paper, Sissors game.\n",
      "Type 0 for rock, 1 for paper and 2 for scissors.\n",
      "You choose Paper.\n",
      "Computer chooses Rock.\n",
      "You Win!\n"
     ]
    }
   ],
   "source": [
    "print(\"Rock, Paper, Sissors game.\\nType 0 for rock, 1 for paper and 2 for scissors.\")\n",
    "pc = int(input(\"What do you choose?\"))\n",
    "ran = random.randint(0,2)\n",
    "\n",
    "if pc == ran:\n",
    "    if pc == 0:\n",
    "        print(\"Both choose Rock.\\nIts a Draw!\")\n",
    "    elif pc == 1:\n",
    "        print(\"Both choose Paper.\\nIts a Draw!\")\n",
    "    else:\n",
    "        print(\"Both choose Scissors.\\nIts a Draw!\")\n",
    "elif pc == 0:\n",
    "    if ran == 1:\n",
    "        print(\"You choose Rock.\\nComputer chooses Paper.\\nYou Lose!\")\n",
    "    else:\n",
    "        print(\"You choose Rock.\\nComputer chooses Scissors.\\nYou Win!\")\n",
    "elif pc == 1:\n",
    "    if ran == 0:\n",
    "        print(\"You choose Paper.\\nComputer chooses Rock.\\nYou Win!\")\n",
    "    else:\n",
    "        print(\"You choose Paper.\\nComputer chooses Scissors.\\nYou Lose!\")\n",
    "else:\n",
    "    if ran == 0:\n",
    "        print(\"You choose Scissors.\\nComputer chooses Rock.\\nYou Lose!\")\n",
    "    else:\n",
    "        print(\"You choose Scissors.\\nComputer chooses Paper.\\nYou Win!\")"
   ]
  }
 ],
 "metadata": {
  "kernelspec": {
   "display_name": "Python 3",
   "language": "python",
   "name": "python3"
  },
  "language_info": {
   "codemirror_mode": {
    "name": "ipython",
    "version": 3
   },
   "file_extension": ".py",
   "mimetype": "text/x-python",
   "name": "python",
   "nbconvert_exporter": "python",
   "pygments_lexer": "ipython3",
   "version": "3.11.0"
  }
 },
 "nbformat": 4,
 "nbformat_minor": 2
}
