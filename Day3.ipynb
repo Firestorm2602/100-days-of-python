{
 "cells": [
  {
   "cell_type": "code",
   "execution_count": 1,
   "metadata": {},
   "outputs": [
    {
     "name": "stdout",
     "output_type": "stream",
     "text": [
      "Welcome to rollercoaster!\n",
      "You can ride the rollercoaster.\n"
     ]
    }
   ],
   "source": [
    "print(\"Welcome to rollercoaster!\")\n",
    "height = int(input(\"What is your height in cm?\"))\n",
    "if height >= 120:\n",
    "    print(\"You can ride the rollercoaster.\")\n",
    "else:\n",
    "    print(\"Sorry you have to grow taller before you can ride.\")"
   ]
  },
  {
   "cell_type": "code",
   "execution_count": 3,
   "metadata": {},
   "outputs": [
    {
     "name": "stdout",
     "output_type": "stream",
     "text": [
      "Odd or Even\n",
      "Even\n"
     ]
    }
   ],
   "source": [
    "print(\"Odd or Even\")\n",
    "no = int(input(\"Enter number:\"))\n",
    "check = no % 2\n",
    "if check == 1:\n",
    "    print(\"Odd\")\n",
    "else:\n",
    "    print(\"Even\")"
   ]
  },
  {
   "cell_type": "code",
   "execution_count": 13,
   "metadata": {},
   "outputs": [
    {
     "name": "stdout",
     "output_type": "stream",
     "text": [
      "Welcome to rollercoaster!\n",
      "You can ride the rollercoaster.\n",
      "You have to pay $15\n"
     ]
    }
   ],
   "source": [
    "print(\"Welcome to rollercoaster!\")\n",
    "height = int(input(\"What is your height in cm?\"))\n",
    "\n",
    "if height >= 120:\n",
    "    print(\"You can ride the rollercoaster.\")\n",
    "    bill = 5\n",
    "\n",
    "    age = int(input(\"What is your age?\"))\n",
    "    photo = input(\"Do you want to have a photo taken? Type y for Yes ana n for No.\")\n",
    "\n",
    "    if photo == \"y\":\n",
    "        bill = bill + 3\n",
    "\n",
    "    if  age < 15:\n",
    "        print(f\"You have to pay ${bill}\")\n",
    "    elif age>= 15 and age <=18:\n",
    "        bill = bill + 2\n",
    "        print(f\"You have to pay ${bill}\")\n",
    "    else:\n",
    "        bill = bill + 7\n",
    "        print(f\"You have to pay ${bill}\")\n",
    "\n",
    "else:\n",
    "    print(\"Sorry you have to grow taller before you can ride.\")"
   ]
  },
  {
   "cell_type": "code",
   "execution_count": 12,
   "metadata": {},
   "outputs": [
    {
     "name": "stdout",
     "output_type": "stream",
     "text": [
      "Welcome to Python Pizza Deliveries!\n",
      "Your total bill is $29.\n"
     ]
    }
   ],
   "source": [
    "print(\"Welcome to Python Pizza Deliveries!\")\n",
    "size = input(\"What size pizza do you want? S, M or L:\")\n",
    "pepperoni = input(\"Do you want pepperoni on your pizza? Y or N:\")\n",
    "cheese = input(\"Do you want extra cheese? Y or N:\")\n",
    "bill = 0\n",
    "\n",
    "if size == \"s\":\n",
    "    bill += 15\n",
    "    if pepperoni == \"y\":\n",
    "        bill += 2\n",
    "elif size == \"m\":\n",
    "    bill += 20\n",
    "    if pepperoni == \"y\":\n",
    "        bill += 3\n",
    "else:\n",
    "    bill += 25\n",
    "    if pepperoni == \"y\":\n",
    "        bill += 3\n",
    "\n",
    "if cheese == \"y\":\n",
    "    bill += 1\n",
    "\n",
    "print(f\"Your total bill is ${bill}.\")"
   ]
  },
  {
   "cell_type": "code",
   "execution_count": 14,
   "metadata": {},
   "outputs": [
    {
     "name": "stdout",
     "output_type": "stream",
     "text": [
      "Welcome to Treasure Island. Your mission is to find the treasure.\n",
      "You arrived at crossroads.\n",
      "You turned left.\n",
      "You arrived at a lake.\n",
      "You waited for the boat.\n",
      "After crossing the lake you encountered three doors - Yellow, Blue and Red.\n",
      "Congratulations! You got the Treasure.\n"
     ]
    }
   ],
   "source": [
    "print(\"Welcome to Treasure Island. Your mission is to find the treasure.\")\n",
    "print(\"You arrived at crossroads.\")\n",
    "turn1 = input(\"Where do you want to go? Left or Right?\")\n",
    "if turn1 == \"left\" or turn1 == \"Left\":\n",
    "    print(\"You turned left.\")\n",
    "    print(\"You arrived at a lake.\")\n",
    "    lake = input(\"Do you want to swim or wait for the boat?\")\n",
    "    if lake == \"wait\" or lake == \"Wait\":\n",
    "        print(\"You waited for the boat.\")\n",
    "        print(\"After crossing the lake you encountered three doors - Yellow, Blue and Red.\")\n",
    "        door = input(\"Which door do you wish to go through?\")\n",
    "        if door == \"yellow\" or door == \"Yellow\":\n",
    "            print(\"Congratulations! You got the Treasure.\")\n",
    "        elif door == \"red\" or door == \"Red\":\n",
    "            print(\"You got burned in fire.\\nGame Over!\")\n",
    "        else:\n",
    "            print(\"You fell from a great height and died.\\nGame Over!\")\n",
    "    else:\n",
    "        print(\"You tried to swim and became shark food.\\nGame Over!\")\n",
    "else:\n",
    "    print(\"You turned right and got shot.\\nGame Over!\")"
   ]
  }
 ],
 "metadata": {
  "kernelspec": {
   "display_name": "Python 3",
   "language": "python",
   "name": "python3"
  },
  "language_info": {
   "codemirror_mode": {
    "name": "ipython",
    "version": 3
   },
   "file_extension": ".py",
   "mimetype": "text/x-python",
   "name": "python",
   "nbconvert_exporter": "python",
   "pygments_lexer": "ipython3",
   "version": "3.11.0"
  }
 },
 "nbformat": 4,
 "nbformat_minor": 2
}
